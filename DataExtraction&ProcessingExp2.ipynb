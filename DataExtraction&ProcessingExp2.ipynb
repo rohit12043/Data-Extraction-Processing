{
 "cells": [
  {
   "cell_type": "code",
   "execution_count": 1,
   "id": "3888c864-0dca-4d2e-b1a4-7e0138de9f6a",
   "metadata": {},
   "outputs": [
    {
     "name": "stdout",
     "output_type": "stream",
     "text": [
      "The temperature is 25°C.\n"
     ]
    }
   ],
   "source": [
    "# SCALARS\n",
    "\n",
    "temperature = 25\n",
    "\n",
    "print(f\"The temperature is {temperature}℃.\")"
   ]
  },
  {
   "cell_type": "code",
   "execution_count": 3,
   "id": "0310cc01-bdfe-45fa-8891-737ae3a7b371",
   "metadata": {},
   "outputs": [
    {
     "name": "stdout",
     "output_type": "stream",
     "text": [
      "The student's score is 89.99.\n"
     ]
    }
   ],
   "source": [
    "score = 89.99\n",
    "\n",
    "print(f\"The student's score is {score}.\")"
   ]
  },
  {
   "cell_type": "code",
   "execution_count": 9,
   "id": "d5947763-9b13-4108-bca9-4b00453faca0",
   "metadata": {},
   "outputs": [
    {
     "name": "stdout",
     "output_type": "stream",
     "text": [
      "Days of the week are:  Monday, Tuesday, Wednesday, Thursday, Friday, Saturday, Sunday\n"
     ]
    }
   ],
   "source": [
    "# VECTORS - list having same type of values, list of similar items\n",
    "\n",
    "days_of_week = ['Monday', 'Tuesday', 'Wednesday' , 'Thursday', 'Friday', 'Saturday' , 'Sunday']\n",
    "print(\"Days of the week are: \", \", \".join(days_of_week))"
   ]
  },
  {
   "cell_type": "code",
   "execution_count": 17,
   "id": "ef446134-1281-4d3f-b7c3-cac4abdda472",
   "metadata": {},
   "outputs": [
    {
     "name": "stdout",
     "output_type": "stream",
     "text": [
      "Monthly rainfall: [35, 24, 89, 23, 75, 64, 45, 56, 34]\n"
     ]
    }
   ],
   "source": [
    "monthly_rainfall = [35,24,89,23,75,64,45,56,34]\n",
    "print(\"Monthly rainfall:\" , monthly_rainfall)\n"
   ]
  },
  {
   "cell_type": "code",
   "execution_count": 21,
   "id": "886c7e7c-c275-4241-b172-b7e800afb202",
   "metadata": {},
   "outputs": [
    {
     "name": "stdout",
     "output_type": "stream",
     "text": [
      "Mixed Bag [42, 'banana', 3.14, False]\n"
     ]
    }
   ],
   "source": [
    "# LISTS - containing different types of items\n",
    "\n",
    "mixed_bag = [42,'banana',3.14, False]\n",
    "print (\"Mixed Bag\", mixed_bag)\n"
   ]
  },
  {
   "cell_type": "code",
   "execution_count": 27,
   "id": "ddfca97f-1b59-4ea3-b5be-2e28d2d786d6",
   "metadata": {},
   "outputs": [
    {
     "name": "stdout",
     "output_type": "stream",
     "text": [
      "student information:  ['John Doe', 20, 'Computer Science', 3.5]\n"
     ]
    }
   ],
   "source": [
    "student_info = ['John Doe', 20 ,'Computer Science',3.5]\n",
    "print (\"student information: \" , student_info)"
   ]
  },
  {
   "cell_type": "code",
   "execution_count": 35,
   "id": "0f678b30-3862-431a-859f-e3d4bb3286b1",
   "metadata": {},
   "outputs": [
    {
     "name": "stdout",
     "output_type": "stream",
     "text": [
      "Coordinates:\n",
      " [[1 2]\n",
      " [3 4]\n",
      " [5 6]]\n"
     ]
    }
   ],
   "source": [
    "# ARRAYS - multidimensional grid of values\n",
    "\n",
    "# 2d array\n",
    "\n",
    "import numpy as np\n",
    "\n",
    "coordinates = np.array([[1,2], [3,4], [5,6]])\n",
    "print(\"Coordinates:\\n\" , coordinates)"
   ]
  },
  {
   "cell_type": "code",
   "execution_count": 37,
   "id": "ac91cba7-b2e7-4a5e-a998-bf5e58c5eb61",
   "metadata": {},
   "outputs": [
    {
     "name": "stdout",
     "output_type": "stream",
     "text": [
      "Pixel intensitiess:\n",
      " [[255 128   0]\n",
      " [ 64  32  16]\n",
      " [  8   4   2]]\n"
     ]
    }
   ],
   "source": [
    "import numpy as np\n",
    "\n",
    "pixel_intensities = np.array([[255, 128, 0] , [64, 32, 16] , [8, 4, 2]])\n",
    "print(\"Pixel intensitiess:\\n\" , pixel_intensities)\n"
   ]
  },
  {
   "cell_type": "code",
   "execution_count": 43,
   "id": "d21b95cc-885d-4462-963e-c962874c8688",
   "metadata": {},
   "outputs": [
    {
     "name": "stdout",
     "output_type": "stream",
     "text": [
      "Survey Responses: ['Yes', 'No', 'Yes', 'No', 'Maybe']\n",
      "Categories (3, object): ['Maybe', 'No', 'Yes']\n"
     ]
    }
   ],
   "source": [
    "# FACTORS - categorical data objects\n",
    "\n",
    "import pandas as pd\n",
    "responses = pd.Categorical(['Yes', 'No', 'Yes', 'No', 'Maybe'])\n",
    "print (\"Survey Responses:\", responses)\n"
   ]
  },
  {
   "cell_type": "code",
   "execution_count": 49,
   "id": "dd9d4a5c-0239-4830-8cb8-2c4c5352b620",
   "metadata": {},
   "outputs": [
    {
     "name": "stdout",
     "output_type": "stream",
     "text": [
      "Shirt Sizes: ['M', 'L', 'S', 'M', 'XL', 'L']\n",
      "Categories (4, object): ['L', 'M', 'S', 'XL']\n"
     ]
    }
   ],
   "source": [
    "import pandas as pd\n",
    "shirt_sizes = pd.Categorical(['M' , 'L' , 'S' , 'M' , 'XL' , 'L'])\n",
    "\n",
    "print (\"Shirt Sizes:\" , shirt_sizes)\n"
   ]
  },
  {
   "cell_type": "code",
   "execution_count": 59,
   "id": "763b52e3-3a3b-4a29-a73e-ac1a04b9763a",
   "metadata": {},
   "outputs": [
    {
     "name": "stdout",
     "output_type": "stream",
     "text": [
      "Class Grades:\n",
      "       Name  Math  Science\n",
      "0    Alice    85       92\n",
      "1      Bob    90       88\n",
      "2  Charlie    95       85\n"
     ]
    }
   ],
   "source": [
    "# DATAFRAME - 2d labeled data\n",
    "\n",
    "grades_data = {'Name' : ['Alice' , 'Bob' , 'Charlie'],\n",
    "'Math' : [85 , 90 , 95],\n",
    "'Science' : [92 , 88 , 85]}\n",
    "\n",
    "grades_df = pd.DataFrame(grades_data)\n",
    "print(\"Class Grades:\\n\" , grades_df)\n"
   ]
  },
  {
   "cell_type": "code",
   "execution_count": 77,
   "id": "4c544b1b-9044-4306-9d02-f1b8159eb2cd",
   "metadata": {},
   "outputs": [
    {
     "name": "stdout",
     "output_type": "stream",
     "text": [
      "Products from csv:\n",
      "       Product  Price   Stock\n",
      "0      Laptop   1200      30\n",
      "1      Tablet    300      50\n",
      "2  Smartphone    800     100\n"
     ]
    }
   ],
   "source": [
    "products_df = pd.read_csv('products.csv')\n",
    "print (\"Products from csv:\\n\" , products_df)"
   ]
  },
  {
   "cell_type": "code",
   "execution_count": 75,
   "id": "a2a11119-3cb4-4b22-a6bb-cea9f58bd339",
   "metadata": {},
   "outputs": [
    {
     "name": "stdout",
     "output_type": "stream",
     "text": [
      "Summary Statistics:\n",
      "              Price       Stock\n",
      "count     3.000000    3.000000\n",
      "mean    766.666667   60.000000\n",
      "std     450.924975   36.055513\n",
      "min     300.000000   30.000000\n",
      "25%     550.000000   40.000000\n",
      "50%     800.000000   50.000000\n",
      "75%    1000.000000   75.000000\n",
      "max    1200.000000  100.000000\n",
      "Data types:\n",
      " Product    object\n",
      "Price       int64\n",
      " Stock      int64\n",
      "dtype: object\n"
     ]
    }
   ],
   "source": [
    "print (\"Summary Statistics:\\n\" , products_df.describe())\n",
    "print (\"Data types:\\n\" , products_df.dtypes)"
   ]
  },
  {
   "cell_type": "code",
   "execution_count": 107,
   "id": "15aeb72a-1135-4d72-ad64-eec2d0e0f6c7",
   "metadata": {},
   "outputs": [
    {
     "name": "stdout",
     "output_type": "stream",
     "text": [
      "Number of passengers: 891\n"
     ]
    }
   ],
   "source": [
    "titanic_df = pd.read_csv('Titanic-Dataset.csv')\n",
    "titanic_df.describe()\n",
    "\n",
    "num_passengers = len(titanic_df)\n",
    "print (f\"Number of passengers: {num_passengers}\")\n"
   ]
  },
  {
   "cell_type": "code",
   "execution_count": 11,
   "id": "145826ea-500c-46f0-bb22-b6e38bd99eda",
   "metadata": {},
   "outputs": [
    {
     "name": "stdout",
     "output_type": "stream",
     "text": [
      "First 5 passenger names: ['Braund, Mr. Owen Harris', 'Cumings, Mrs. John Bradley (Florence Briggs Thayer)', 'Heikkinen, Miss. Laina', 'Futrelle, Mrs. Jacques Heath (Lily May Peel)', 'Allen, Mr. William Henry']\n"
     ]
    }
   ],
   "source": [
    "import pandas as pd\n",
    "titanic_df = pd.read_csv('Titanic-Dataset.csv')\n",
    "passenger_names = titanic_df['Name'].tolist()\n",
    "print (\"First 5 passenger names:\" , passenger_names[:5])"
   ]
  },
  {
   "cell_type": "code",
   "execution_count": 25,
   "id": "bfa542a8-1440-4d32-8535-7c44de3cfec4",
   "metadata": {},
   "outputs": [
    {
     "name": "stdout",
     "output_type": "stream",
     "text": [
      "Five passenger information: \n",
      "[1, 0, 3, 'Braund, Mr. Owen Harris', 'male', 22.0, 1, 0, 'A/5 21171', 7.25, nan, 'S']\n",
      "[2, 1, 1, 'Cumings, Mrs. John Bradley (Florence Briggs Thayer)', 'female', 38.0, 1, 0, 'PC 17599', 71.2833, 'C85', 'C']\n",
      "[3, 1, 3, 'Heikkinen, Miss. Laina', 'female', 26.0, 0, 0, 'STON/O2. 3101282', 7.925, nan, 'S']\n",
      "[4, 1, 1, 'Futrelle, Mrs. Jacques Heath (Lily May Peel)', 'female', 35.0, 1, 0, '113803', 53.1, 'C123', 'S']\n",
      "[5, 0, 3, 'Allen, Mr. William Henry', 'male', 35.0, 0, 0, '373450', 8.05, nan, 'S']\n"
     ]
    }
   ],
   "source": [
    "import pandas as pd\n",
    "titanic_df = pd.read_csv('Titanic-Dataset.csv')\n",
    "five_passenger_info = []\n",
    "\n",
    "print(\"Five passenger information: \")\n",
    "for i in range(5):\n",
    "    passenger = titanic_df.iloc[i].tolist()\n",
    "    print(passenger)\n"
   ]
  },
  {
   "cell_type": "code",
   "execution_count": 29,
   "id": "307ac08f-98e4-4d85-96b2-3768811687ed",
   "metadata": {},
   "outputs": [
    {
     "name": "stdout",
     "output_type": "stream",
     "text": [
      "Passenger class categories: Index([1, 2, 3], dtype='int64')\n",
      "\n",
      "Embarked location categories: Index(['C', 'Q', 'S'], dtype='object')\n"
     ]
    }
   ],
   "source": [
    "import pandas as pd\n",
    "import numpy as np\n",
    "\n",
    "titanic_df = pd.read_csv('Titanic-Dataset.csv')\n",
    "\n",
    "# FACTOR\n",
    "class_factor = pd.Categorical(titanic_df['Pclass'].dropna())\n",
    "print (\"Passenger class categories:\" , class_factor.categories)\n",
    "print()\n",
    "embarked_factor = pd.Categorical(titanic_df['Embarked'].dropna())\n",
    "print (\"Embarked location categories:\" , embarked_factor.categories)"
   ]
  },
  {
   "cell_type": "code",
   "execution_count": 36,
   "id": "09e32f1d-478e-4625-90a9-f151c415d84b",
   "metadata": {},
   "outputs": [
    {
     "name": "stdout",
     "output_type": "stream",
     "text": [
      "<class 'pandas.core.frame.DataFrame'>\n",
      "RangeIndex: 891 entries, 0 to 890\n",
      "Data columns (total 12 columns):\n",
      " #   Column       Non-Null Count  Dtype  \n",
      "---  ------       --------------  -----  \n",
      " 0   PassengerId  891 non-null    int64  \n",
      " 1   Survived     891 non-null    int64  \n",
      " 2   Pclass       891 non-null    int64  \n",
      " 3   Name         891 non-null    object \n",
      " 4   Sex          891 non-null    object \n",
      " 5   Age          714 non-null    float64\n",
      " 6   SibSp        891 non-null    int64  \n",
      " 7   Parch        891 non-null    int64  \n",
      " 8   Ticket       891 non-null    object \n",
      " 9   Fare         891 non-null    float64\n",
      " 10  Cabin        204 non-null    object \n",
      " 11  Embarked     889 non-null    object \n",
      "dtypes: float64(2), int64(5), object(5)\n",
      "memory usage: 83.7+ KB\n"
     ]
    }
   ],
   "source": [
    "titanic_df.info()"
   ]
  },
  {
   "cell_type": "code",
   "execution_count": 33,
   "id": "baac32c6-39d6-4875-981b-0c3d4c4d8806",
   "metadata": {},
   "outputs": [
    {
     "name": "stdout",
     "output_type": "stream",
     "text": [
      "\n",
      "Summary statistics :\n",
      "        PassengerId    Survived      Pclass         Age       SibSp  \\\n",
      "count   891.000000  891.000000  891.000000  714.000000  891.000000   \n",
      "mean    446.000000    0.383838    2.308642   29.699118    0.523008   \n",
      "std     257.353842    0.486592    0.836071   14.526497    1.102743   \n",
      "min       1.000000    0.000000    1.000000    0.420000    0.000000   \n",
      "25%     223.500000    0.000000    2.000000   20.125000    0.000000   \n",
      "50%     446.000000    0.000000    3.000000   28.000000    0.000000   \n",
      "75%     668.500000    1.000000    3.000000   38.000000    1.000000   \n",
      "max     891.000000    1.000000    3.000000   80.000000    8.000000   \n",
      "\n",
      "            Parch        Fare  \n",
      "count  891.000000  891.000000  \n",
      "mean     0.381594   32.204208  \n",
      "std      0.806057   49.693429  \n",
      "min      0.000000    0.000000  \n",
      "25%      0.000000    7.910400  \n",
      "50%      0.000000   14.454200  \n",
      "75%      0.000000   31.000000  \n",
      "max      6.000000  512.329200  \n"
     ]
    }
   ],
   "source": [
    "\n",
    "print (\"\\nSummary statistics :\\n\" , titanic_df.describe())"
   ]
  },
  {
   "cell_type": "code",
   "execution_count": null,
   "id": "2bc190ec-23cf-4088-a915-cf5f5514e21a",
   "metadata": {},
   "outputs": [],
   "source": []
  }
 ],
 "metadata": {
  "kernelspec": {
   "display_name": "Python 3 (ipykernel)",
   "language": "python",
   "name": "python3"
  },
  "language_info": {
   "codemirror_mode": {
    "name": "ipython",
    "version": 3
   },
   "file_extension": ".py",
   "mimetype": "text/x-python",
   "name": "python",
   "nbconvert_exporter": "python",
   "pygments_lexer": "ipython3",
   "version": "3.12.2"
  }
 },
 "nbformat": 4,
 "nbformat_minor": 5
}
