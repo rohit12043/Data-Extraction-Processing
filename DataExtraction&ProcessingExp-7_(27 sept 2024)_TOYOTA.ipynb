{
 "cells": [
  {
   "cell_type": "code",
   "execution_count": 48,
   "id": "e02373fe-27a2-4e86-8334-9ef49ee20612",
   "metadata": {},
   "outputs": [
    {
     "name": "stdout",
     "output_type": "stream",
     "text": [
      "Shape of the dataset is: \n",
      "(1436, 11)\n",
      "\n",
      "Size of the dataset is: \n",
      "15796\n",
      "\n",
      "Datatypes of the dataset are: \n",
      "Unnamed: 0      int64\n",
      "Price           int64\n",
      "Age           float64\n",
      "KM             object\n",
      "FuelType       object\n",
      "HP             object\n",
      "MetColor      float64\n",
      "Automatic       int64\n",
      "CC              int64\n",
      "Doors          object\n",
      "Weight          int64\n",
      "dtype: object\n"
     ]
    }
   ],
   "source": [
    "import pandas as pd\n",
    "\n",
    "df = pd.read_csv('Toyota.csv')\n",
    "\n",
    "print(\"Shape of the dataset is: \")\n",
    "print(df.shape)\n",
    "print(\"\\nSize of the dataset is: \")\n",
    "print(df.size)\n",
    "print(\"\\nDatatypes of the dataset are: \")\n",
    "print(df.dtypes)\n"
   ]
  },
  {
   "cell_type": "code",
   "execution_count": 49,
   "id": "2025c39a-eb5f-47e2-b837-c4ebb7113683",
   "metadata": {},
   "outputs": [
    {
     "name": "stdout",
     "output_type": "stream",
     "text": [
      "Column names:\n",
      " Index(['Unnamed: 0', 'Price', 'Age', 'KM', 'FuelType', 'HP', 'MetColor',\n",
      "       'Automatic', 'CC', 'Doors', 'Weight'],\n",
      "      dtype='object')\n"
     ]
    }
   ],
   "source": [
    "print(\"Column names:\\n\", df.columns)"
   ]
  },
  {
   "cell_type": "code",
   "execution_count": 50,
   "id": "81578531-905f-4c77-889e-61cf6a7013c5",
   "metadata": {},
   "outputs": [
    {
     "name": "stdout",
     "output_type": "stream",
     "text": [
      "Fuel type at 4th row is: Diesel\n"
     ]
    }
   ],
   "source": [
    "print(\"Fuel type at 4th row is:\", df.at[3, 'FuelType'])"
   ]
  },
  {
   "cell_type": "code",
   "execution_count": 51,
   "id": "1944dab3-8d04-4172-8ad7-703039b829d2",
   "metadata": {},
   "outputs": [
    {
     "name": "stdout",
     "output_type": "stream",
     "text": [
      "Value at 4th row and 2nd column is: 14950\n"
     ]
    }
   ],
   "source": [
    "print(\"Value at 4th row and 2nd column is:\", df.iloc[3, 1])"
   ]
  },
  {
   "cell_type": "code",
   "execution_count": 52,
   "id": "d3964f4c-2150-4d70-9b82-eaf989c017a1",
   "metadata": {},
   "outputs": [
    {
     "name": "stdout",
     "output_type": "stream",
     "text": [
      "Fuel type:\n",
      " 0       Diesel\n",
      "1       Diesel\n",
      "2       Diesel\n",
      "3       Diesel\n",
      "4       Diesel\n",
      "         ...  \n",
      "1431    Petrol\n",
      "1432    Petrol\n",
      "1433    Petrol\n",
      "1434       NaN\n",
      "1435    Petrol\n",
      "Name: FuelType, Length: 1436, dtype: object\n"
     ]
    }
   ],
   "source": [
    "print(\"Fuel type:\\n\", df['FuelType'])"
   ]
  },
  {
   "cell_type": "code",
   "execution_count": 53,
   "id": "b3e0790b-1e0d-439c-82cd-161efc85e647",
   "metadata": {},
   "outputs": [
    {
     "name": "stdout",
     "output_type": "stream",
     "text": [
      "KM and HP and Automatic:\n",
      "          KM   HP  Automatic\n",
      "0     46986   90          0\n",
      "1     72937   90          0\n",
      "2     41711   90          0\n",
      "3     48000   90          0\n",
      "4     38500   90          0\n",
      "...     ...  ...        ...\n",
      "1431  20544   86          0\n",
      "1432     ??   86          0\n",
      "1433  17016   86          0\n",
      "1434     ??   86          0\n",
      "1435      1  110          0\n",
      "\n",
      "[1436 rows x 3 columns]\n"
     ]
    }
   ],
   "source": [
    "print(\"KM and HP and Automatic:\\n\", df[['KM', 'HP', 'Automatic']])"
   ]
  },
  {
   "cell_type": "code",
   "execution_count": 54,
   "id": "27cd04d2-222a-42fd-99ec-947a21d82ba6",
   "metadata": {},
   "outputs": [
    {
     "name": "stdout",
     "output_type": "stream",
     "text": [
      "   Price   Age     KM\n",
      "0  13500  23.0  46986\n",
      "1  13750  23.0  72937\n",
      "2  13950  24.0  41711\n",
      "3  14950  26.0  48000\n",
      "4  13750  30.0  38500\n"
     ]
    }
   ],
   "source": [
    "print(df.iloc[0:5, 1:4])"
   ]
  },
  {
   "cell_type": "code",
   "execution_count": 55,
   "id": "a7673d3b-f813-41bd-bc00-fb287e44212c",
   "metadata": {},
   "outputs": [
    {
     "name": "stdout",
     "output_type": "stream",
     "text": [
      "<class 'pandas.core.frame.DataFrame'>\n",
      "RangeIndex: 1436 entries, 0 to 1435\n",
      "Data columns (total 11 columns):\n",
      " #   Column      Non-Null Count  Dtype  \n",
      "---  ------      --------------  -----  \n",
      " 0   Unnamed: 0  1436 non-null   int64  \n",
      " 1   Price       1436 non-null   int64  \n",
      " 2   Age         1336 non-null   float64\n",
      " 3   KM          1436 non-null   object \n",
      " 4   FuelType    1336 non-null   object \n",
      " 5   HP          1436 non-null   object \n",
      " 6   MetColor    1286 non-null   float64\n",
      " 7   Automatic   1436 non-null   int64  \n",
      " 8   CC          1436 non-null   int64  \n",
      " 9   Doors       1436 non-null   object \n",
      " 10  Weight      1436 non-null   int64  \n",
      "dtypes: float64(2), int64(5), object(4)\n",
      "memory usage: 123.5+ KB\n",
      "None\n"
     ]
    }
   ],
   "source": [
    "print(df.info())"
   ]
  },
  {
   "cell_type": "code",
   "execution_count": 56,
   "id": "6a0e14a0-4a0d-4604-bd28-b240381174a7",
   "metadata": {},
   "outputs": [
    {
     "name": "stdout",
     "output_type": "stream",
     "text": [
      "      Unnamed: 0  Price   Age     KM FuelType   HP  MetColor  Automatic    CC  \\\n",
      "0              0  13500  23.0  46986   Diesel   90       1.0          0  2000   \n",
      "1              1  13750  23.0  72937   Diesel   90       1.0          0  2000   \n",
      "2              2  13950  24.0  41711   Diesel   90       NaN          0  2000   \n",
      "3              3  14950  26.0  48000   Diesel   90       0.0          0  2000   \n",
      "4              4  13750  30.0  38500   Diesel   90       0.0          0  2000   \n",
      "...          ...    ...   ...    ...      ...  ...       ...        ...   ...   \n",
      "1431        1431   7500   NaN  20544   Petrol   86       1.0          0  1300   \n",
      "1432        1432  10845  72.0    NaN   Petrol   86       0.0          0  1300   \n",
      "1433        1433   8500   NaN  17016   Petrol   86       0.0          0  1300   \n",
      "1434        1434   7250  70.0    NaN      NaN   86       1.0          0  1300   \n",
      "1435        1435   6950  76.0      1   Petrol  110       0.0          0  1600   \n",
      "\n",
      "      Doors  Weight  \n",
      "0     three    1165  \n",
      "1         3    1165  \n",
      "2         3    1165  \n",
      "3         3    1165  \n",
      "4         3    1170  \n",
      "...     ...     ...  \n",
      "1431      3    1025  \n",
      "1432      3    1015  \n",
      "1433      3    1015  \n",
      "1434      3    1015  \n",
      "1435      5    1114  \n",
      "\n",
      "[1436 rows x 11 columns]\n"
     ]
    }
   ],
   "source": [
    "import numpy as np\n",
    "df = df.replace(to_replace=['??', '????'], value=np.nan)\n",
    "\n",
    "print(df)"
   ]
  },
  {
   "cell_type": "code",
   "execution_count": 57,
   "id": "1b708bc9-cadc-4244-ae83-7eb209d61a37",
   "metadata": {},
   "outputs": [
    {
     "name": "stdout",
     "output_type": "stream",
     "text": [
      "0       3\n",
      "1       3\n",
      "2       3\n",
      "3       3\n",
      "4       3\n",
      "       ..\n",
      "1431    3\n",
      "1432    3\n",
      "1433    3\n",
      "1434    3\n",
      "1435    5\n",
      "Name: Doors, Length: 1436, dtype: object\n"
     ]
    }
   ],
   "source": [
    "df['Doors'] = df['Doors'].replace({'two': 2, 'three': 3, 'four': 4, 'five': 5})\n",
    "print(df['Doors'])"
   ]
  },
  {
   "cell_type": "code",
   "execution_count": 58,
   "id": "947604ba-1980-4549-b0e5-392d34ef2eb0",
   "metadata": {},
   "outputs": [
    {
     "name": "stdout",
     "output_type": "stream",
     "text": [
      "unique KM values: ['46986' '72937' '41711' ... '30964' '20544' '17016']\n",
      "unique HP values: ['90' nan '192' '110' '97' '71' '116' '98' '69' '86' '72' '107' '73']\n",
      "unique Doors values: [3 '3' '5' '4' 4 5 '2']\n"
     ]
    }
   ],
   "source": [
    "ukm = df['KM'].unique()\n",
    "uhp = df['HP'].unique()\n",
    "udoors = df['Doors'].unique()\n",
    "\n",
    "print(f'unique KM values: {ukm}')\n",
    "print(f'unique HP values: {uhp}')\n",
    "print(f'unique Doors values: {udoors}')"
   ]
  },
  {
   "cell_type": "code",
   "execution_count": 59,
   "id": "0656265a-2208-4a3d-a029-29f796dd5b3d",
   "metadata": {},
   "outputs": [
    {
     "name": "stdout",
     "output_type": "stream",
     "text": [
      "Doors        Int64\n",
      "MetColor     Int64\n",
      "Automatic    Int64\n",
      "dtype: object\n"
     ]
    }
   ],
   "source": [
    "df['Doors'] = pd.to_numeric(df['Doors']).astype('Int64')\n",
    "df['MetColor'] = pd.to_numeric(df['MetColor']).astype('Int64')\n",
    "df['Automatic'] = pd.to_numeric(df['Automatic']).astype('Int64')\n",
    "print(df[['Doors', 'MetColor', 'Automatic']].dtypes)"
   ]
  },
  {
   "cell_type": "code",
   "execution_count": 60,
   "id": "edf06a0c-3132-4bd4-a755-5dc2e75e50f7",
   "metadata": {},
   "outputs": [
    {
     "name": "stdout",
     "output_type": "stream",
     "text": [
      "Unnamed: 0      0\n",
      "Price           0\n",
      "Age           100\n",
      "KM             15\n",
      "FuelType      100\n",
      "HP              6\n",
      "MetColor      150\n",
      "Automatic       0\n",
      "CC              0\n",
      "Doors           0\n",
      "Weight          0\n",
      "dtype: int64\n"
     ]
    }
   ],
   "source": [
    "null = df.isnull().sum()\n",
    "print(null)"
   ]
  },
  {
   "cell_type": "code",
   "execution_count": 61,
   "id": "49a69508-43b0-4d58-853f-51e52b31dc0a",
   "metadata": {},
   "outputs": [
    {
     "name": "stdout",
     "output_type": "stream",
     "text": [
      "      Unnamed: 0  Price   Age     KM FuelType   HP  MetColor  Automatic    CC  \\\n",
      "0              0  13500  23.0  46986   Diesel   90         1          0  2000   \n",
      "1              1  13750  23.0  72937   Diesel   90         1          0  2000   \n",
      "3              3  14950  26.0  48000   Diesel   90         0          0  2000   \n",
      "4              4  13750  30.0  38500   Diesel   90         0          0  2000   \n",
      "5              5  12950  32.0  61000   Diesel   90         0          0  2000   \n",
      "...          ...    ...   ...    ...      ...  ...       ...        ...   ...   \n",
      "1423        1423   7950  80.0  35821   Petrol   86         0          1  1300   \n",
      "1424        1424   7750  73.0  34717   Petrol   86         0          0  1300   \n",
      "1429        1429   8950  78.0  24000   Petrol   86         1          1  1300   \n",
      "1430        1430   8450  80.0  23000   Petrol   86         0          0  1300   \n",
      "1435        1435   6950  76.0      1   Petrol  110         0          0  1600   \n",
      "\n",
      "      Doors  Weight  \n",
      "0         3    1165  \n",
      "1         3    1165  \n",
      "3         3    1165  \n",
      "4         3    1170  \n",
      "5         3    1170  \n",
      "...     ...     ...  \n",
      "1423      3    1015  \n",
      "1424      3    1015  \n",
      "1429      5    1065  \n",
      "1430      3    1015  \n",
      "1435      5    1114  \n",
      "\n",
      "[1096 rows x 11 columns]\n"
     ]
    }
   ],
   "source": [
    "df_clean = df.dropna()\n",
    "print(df_clean)"
   ]
  },
  {
   "cell_type": "code",
   "execution_count": 62,
   "id": "af46b683-a165-4017-95ce-576bf81069a9",
   "metadata": {},
   "outputs": [
    {
     "name": "stdout",
     "output_type": "stream",
     "text": [
      "FuelType\n",
      "Petrol    1177\n",
      "Diesel     144\n",
      "CNG         15\n",
      "Name: count, dtype: int64\n"
     ]
    }
   ],
   "source": [
    "fuel = df[df['FuelType'].isin(['Petrol', 'Diesel', 'CNG'])]['FuelType'].value_counts()\n",
    "print(fuel)\n"
   ]
  },
  {
   "cell_type": "code",
   "execution_count": 70,
   "id": "41095d37-7281-4c7d-ac37-591c0f5ba4f4",
   "metadata": {},
   "outputs": [
    {
     "name": "stdout",
     "output_type": "stream",
     "text": [
      "Mean of KM for diesel cars:\n",
      " 114927.87857142858\n"
     ]
    }
   ],
   "source": [
    "diesel = df[df['FuelType'] == 'Diesel'].copy()\n",
    "diesel['KM'] = diesel['KM'].astype('Int64') \n",
    "print(\"Mean of KM for diesel cars:\\n\", diesel['KM'].mean())"
   ]
  },
  {
   "cell_type": "code",
   "execution_count": null,
   "id": "b4cef30a-9777-4ab4-9c3b-acbf0e19cb2c",
   "metadata": {},
   "outputs": [],
   "source": []
  },
  {
   "cell_type": "code",
   "execution_count": null,
   "id": "586029f6-fcfa-4f1f-a70e-a4581cb2ff81",
   "metadata": {},
   "outputs": [],
   "source": []
  },
  {
   "cell_type": "code",
   "execution_count": null,
   "id": "d896b98a-75ae-4eaa-800b-e071cbd19c4b",
   "metadata": {},
   "outputs": [],
   "source": []
  },
  {
   "cell_type": "code",
   "execution_count": null,
   "id": "aea6c15c-81c5-4646-9f97-65d79ce7d5e7",
   "metadata": {},
   "outputs": [],
   "source": []
  }
 ],
 "metadata": {
  "kernelspec": {
   "display_name": "Python 3 (ipykernel)",
   "language": "python",
   "name": "python3"
  },
  "language_info": {
   "codemirror_mode": {
    "name": "ipython",
    "version": 3
   },
   "file_extension": ".py",
   "mimetype": "text/x-python",
   "name": "python",
   "nbconvert_exporter": "python",
   "pygments_lexer": "ipython3",
   "version": "3.12.2"
  }
 },
 "nbformat": 4,
 "nbformat_minor": 5
}
