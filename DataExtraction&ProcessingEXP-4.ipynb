{
 "cells": [
  {
   "cell_type": "code",
   "execution_count": 2,
   "id": "9ba25ff4-3a73-4e1d-a897-8b28a8431054",
   "metadata": {},
   "outputs": [
    {
     "data": {
      "text/html": [
       "<div>\n",
       "<style scoped>\n",
       "    .dataframe tbody tr th:only-of-type {\n",
       "        vertical-align: middle;\n",
       "    }\n",
       "\n",
       "    .dataframe tbody tr th {\n",
       "        vertical-align: top;\n",
       "    }\n",
       "\n",
       "    .dataframe thead th {\n",
       "        text-align: right;\n",
       "    }\n",
       "</style>\n",
       "<table border=\"1\" class=\"dataframe\">\n",
       "  <thead>\n",
       "    <tr style=\"text-align: right;\">\n",
       "      <th></th>\n",
       "      <th>Unnamed: 0</th>\n",
       "      <th>Ozone</th>\n",
       "      <th>Solar.R</th>\n",
       "      <th>Wind</th>\n",
       "      <th>Temp</th>\n",
       "      <th>Month</th>\n",
       "      <th>Day</th>\n",
       "    </tr>\n",
       "  </thead>\n",
       "  <tbody>\n",
       "    <tr>\n",
       "      <th>0</th>\n",
       "      <td>1</td>\n",
       "      <td>41.0</td>\n",
       "      <td>190.0</td>\n",
       "      <td>7.4</td>\n",
       "      <td>67</td>\n",
       "      <td>5</td>\n",
       "      <td>1</td>\n",
       "    </tr>\n",
       "    <tr>\n",
       "      <th>1</th>\n",
       "      <td>2</td>\n",
       "      <td>36.0</td>\n",
       "      <td>118.0</td>\n",
       "      <td>8.0</td>\n",
       "      <td>72</td>\n",
       "      <td>5</td>\n",
       "      <td>2</td>\n",
       "    </tr>\n",
       "    <tr>\n",
       "      <th>2</th>\n",
       "      <td>3</td>\n",
       "      <td>12.0</td>\n",
       "      <td>149.0</td>\n",
       "      <td>12.6</td>\n",
       "      <td>74</td>\n",
       "      <td>5</td>\n",
       "      <td>3</td>\n",
       "    </tr>\n",
       "    <tr>\n",
       "      <th>3</th>\n",
       "      <td>4</td>\n",
       "      <td>18.0</td>\n",
       "      <td>313.0</td>\n",
       "      <td>11.5</td>\n",
       "      <td>62</td>\n",
       "      <td>5</td>\n",
       "      <td>4</td>\n",
       "    </tr>\n",
       "    <tr>\n",
       "      <th>4</th>\n",
       "      <td>5</td>\n",
       "      <td>NaN</td>\n",
       "      <td>NaN</td>\n",
       "      <td>14.3</td>\n",
       "      <td>56</td>\n",
       "      <td>5</td>\n",
       "      <td>5</td>\n",
       "    </tr>\n",
       "  </tbody>\n",
       "</table>\n",
       "</div>"
      ],
      "text/plain": [
       "   Unnamed: 0  Ozone  Solar.R  Wind  Temp  Month  Day\n",
       "0           1   41.0    190.0   7.4    67      5    1\n",
       "1           2   36.0    118.0   8.0    72      5    2\n",
       "2           3   12.0    149.0  12.6    74      5    3\n",
       "3           4   18.0    313.0  11.5    62      5    4\n",
       "4           5    NaN      NaN  14.3    56      5    5"
      ]
     },
     "execution_count": 2,
     "metadata": {},
     "output_type": "execute_result"
    }
   ],
   "source": [
    "import pandas as pd\n",
    "\n",
    "air = pd.read_csv('airquality.csv')\n",
    "air.head()"
   ]
  },
  {
   "cell_type": "code",
   "execution_count": 3,
   "id": "8cf6f29f-1bfa-4d3d-8160-cf2b5fcaf0ab",
   "metadata": {},
   "outputs": [
    {
     "name": "stdout",
     "output_type": "stream",
     "text": [
      "Ozone Median is: 31.5\n",
      "Ozone standard deviation is: 32.98788451443395\n",
      "\n",
      "For Solar.R: \n",
      "Solar Median is: 205.0\n",
      "Solar standard deviation is: 90.05842222838167\n"
     ]
    }
   ],
   "source": [
    "ozone_median = air['Ozone'].median()\n",
    "print(\"Ozone Median is:\", ozone_median)\n",
    "\n",
    "ozone_std = air['Ozone'].std()\n",
    "print(\"Ozone standard deviation is:\", ozone_std)\n",
    "\n",
    "\n",
    "print()\n",
    "print(\"For Solar.R: \")\n",
    "solar_median = air['Solar.R'].median()\n",
    "print(\"Solar Median is:\", solar_median)\n",
    "\n",
    "solar_std = air['Solar.R'].std()\n",
    "print(\"Solar standard deviation is:\", solar_std)"
   ]
  },
  {
   "cell_type": "code",
   "execution_count": 4,
   "id": "db0c79a5-f5af-450b-b8b7-7a58bcfc7f3a",
   "metadata": {},
   "outputs": [
    {
     "name": "stdout",
     "output_type": "stream",
     "text": [
      "NA values in each column are: Unnamed: 0     0\n",
      "Ozone         37\n",
      "Solar.R        7\n",
      "Wind           0\n",
      "Temp           0\n",
      "Month          0\n",
      "Day            0\n",
      "dtype: int64\n"
     ]
    }
   ],
   "source": [
    "na_values = air.isnull().sum()\n",
    "print(\"NA values in each column are:\", na_values)\n"
   ]
  },
  {
   "cell_type": "code",
   "execution_count": 5,
   "id": "83e72021-998a-4f43-bc11-3136cf96982a",
   "metadata": {},
   "outputs": [
    {
     "ename": "NameError",
     "evalue": "name 'solar_mode' is not defined",
     "output_type": "error",
     "traceback": [
      "\u001b[1;31m---------------------------------------------------------------------------\u001b[0m",
      "\u001b[1;31mNameError\u001b[0m                                 Traceback (most recent call last)",
      "Cell \u001b[1;32mIn[5], line 5\u001b[0m\n\u001b[0;32m      1\u001b[0m \u001b[38;5;66;03m# Filling null values with mean, mode and median\u001b[39;00m\n\u001b[0;32m      2\u001b[0m \n\u001b[0;32m      3\u001b[0m \u001b[38;5;66;03m# air[\"Solar.R\"].fillna(solar_mean, inplace = True)\u001b[39;00m\n\u001b[0;32m      4\u001b[0m \u001b[38;5;66;03m# air[\"Solar.R\"].fillna(solar_median, inplace = True)\u001b[39;00m\n\u001b[1;32m----> 5\u001b[0m air[\u001b[38;5;124m\"\u001b[39m\u001b[38;5;124mSolar.R\u001b[39m\u001b[38;5;124m\"\u001b[39m]\u001b[38;5;241m.\u001b[39mfillna(\u001b[43msolar_mode\u001b[49m[\u001b[38;5;241m1\u001b[39m], inplace \u001b[38;5;241m=\u001b[39m \u001b[38;5;28;01mTrue\u001b[39;00m)\n\u001b[0;32m      7\u001b[0m \u001b[38;5;28mprint\u001b[39m(\u001b[38;5;124m\"\u001b[39m\u001b[38;5;124mFilling na values in solar column with its mode.\u001b[39m\u001b[38;5;124m\"\u001b[39m)\n\u001b[0;32m      8\u001b[0m \u001b[38;5;28mprint\u001b[39m(air)\n",
      "\u001b[1;31mNameError\u001b[0m: name 'solar_mode' is not defined"
     ]
    }
   ],
   "source": [
    "# Filling null values with mean, mode and median\n",
    "\n",
    "# air[\"Solar.R\"].fillna(solar_mean, inplace = True)\n",
    "# air[\"Solar.R\"].fillna(solar_median, inplace = True)\n",
    "air[\"Solar.R\"].fillna(solar_mode[1], inplace = True)\n",
    "\n",
    "print(\"Filling na values in solar column with its mode.\")\n",
    "print(air)\n",
    "print(\"Null values:\", air[\"Solar.R\"].isnull().sum())"
   ]
  },
  {
   "cell_type": "code",
   "execution_count": 6,
   "id": "e570aca9-84c7-4e0b-98e1-0d20de953a40",
   "metadata": {
    "scrolled": true
   },
   "outputs": [
    {
     "name": "stdout",
     "output_type": "stream",
     "text": [
      "   Unnamed: 0  Ozone  Solar.R  Wind  Temp  Month  Day Solar.Danger\n",
      "0           1   41.0    190.0   7.4    67      5    1          Yes\n",
      "1           2   36.0    118.0   8.0    72      5    2          Yes\n",
      "2           3   12.0    149.0  12.6    74      5    3          Yes\n",
      "3           4   18.0    313.0  11.5    62      5    4          Yes\n",
      "4           5    NaN      NaN  14.3    56      5    5           No\n",
      "     Unnamed: 0  Ozone  Solar.R  Wind  Temp  Month  Day Solar.Danger\n",
      "148         149   30.0    193.0   6.9    70      9   26          Yes\n",
      "149         150    NaN    145.0  13.2    77      9   27          Yes\n",
      "150         151   14.0    191.0  14.3    75      9   28          Yes\n",
      "151         152   18.0    131.0   8.0    76      9   29          Yes\n",
      "152         153   20.0    223.0  11.5    68      9   30          Yes\n"
     ]
    }
   ],
   "source": [
    "# Data Transformation\n",
    "air['Solar.Danger'] = air['Solar.R'].apply(lambda x: \"Yes\" if x > 100 else \"No\")\n",
    "print(air.head())\n",
    "print(air.tail())"
   ]
  },
  {
   "cell_type": "code",
   "execution_count": 8,
   "id": "fba57aa5-490c-4930-9487-f8407a379e9f",
   "metadata": {
    "scrolled": true
   },
   "outputs": [
    {
     "name": "stdout",
     "output_type": "stream",
     "text": [
      "[0, 50, 100, 150, 200, 250, 300, 350]\n",
      "['0-50', '50-100', '100-150', '150-200', '200-250', '250-300', '300-350']\n",
      "   Unnamed: 0  Ozone  Solar.R  Wind  Temp  Month  Day Solar.Danger  \\\n",
      "0           1   41.0    190.0   7.4    67      5    1          Yes   \n",
      "1           2   36.0    118.0   8.0    72      5    2          Yes   \n",
      "2           3   12.0    149.0  12.6    74      5    3          Yes   \n",
      "3           4   18.0    313.0  11.5    62      5    4          Yes   \n",
      "4           5    NaN      NaN  14.3    56      5    5           No   \n",
      "\n",
      "  Solar.R.Interval  \n",
      "0          150-200  \n",
      "1          100-150  \n",
      "2          100-150  \n",
      "3          300-350  \n",
      "4              NaN  \n"
     ]
    }
   ],
   "source": [
    "bins = [x for x in range(0, 399, 50)]\n",
    "print(bins)\n",
    "\n",
    "labels = [f\"{bins[i]}-{bins[i+1]}\" for i in range(len(bins)-1)]\n",
    "# labels = ['0-50', '50-100', '100-150', '150-200', '200-250', '250-300', '300-350']\n",
    "print(labels)\n",
    "air['Solar.R.Interval'] = pd.cut(air['Solar.R'], bins = bins, labels = labels, include_lowest = True)\n",
    "print(air.head())"
   ]
  },
  {
   "cell_type": "code",
   "execution_count": 9,
   "id": "dab00a9a-26f2-4c3f-9542-01d2e1b33375",
   "metadata": {},
   "outputs": [
    {
     "name": "stdout",
     "output_type": "stream",
     "text": [
      "   Unnamed: 0  Ozone  Solar.R  Wind  Temp Month  Day Solar.Danger  \\\n",
      "0           1   41.0    190.0   7.4    67   may    1          Yes   \n",
      "1           2   36.0    118.0   8.0    72   may    2          Yes   \n",
      "2           3   12.0    149.0  12.6    74   may    3          Yes   \n",
      "3           4   18.0    313.0  11.5    62   may    4          Yes   \n",
      "4           5    NaN      NaN  14.3    56   may    5           No   \n",
      "\n",
      "  Solar.R.Interval  \n",
      "0          150-200  \n",
      "1          100-150  \n",
      "2          100-150  \n",
      "3          300-350  \n",
      "4              NaN  \n",
      "     Unnamed: 0  Ozone  Solar.R  Wind  Temp      Month  Day Solar.Danger  \\\n",
      "148         149   30.0    193.0   6.9    70  september   26          Yes   \n",
      "149         150    NaN    145.0  13.2    77  september   27          Yes   \n",
      "150         151   14.0    191.0  14.3    75  september   28          Yes   \n",
      "151         152   18.0    131.0   8.0    76  september   29          Yes   \n",
      "152         153   20.0    223.0  11.5    68  september   30          Yes   \n",
      "\n",
      "    Solar.R.Interval  \n",
      "148          150-200  \n",
      "149          100-150  \n",
      "150          150-200  \n",
      "151          100-150  \n",
      "152          200-250  \n"
     ]
    }
   ],
   "source": [
    "# Replace Month number with month name\n",
    "\n",
    "month_mapping = {5: 'may', 6: 'june', 7: 'july', 8: 'august', 9: 'september'}\n",
    "air['Month'] = air['Month'].map(month_mapping)\n",
    "print(air.head())\n",
    "print(air.tail())"
   ]
  },
  {
   "cell_type": "code",
   "execution_count": 11,
   "id": "02882056-4907-4f92-910a-4a2ea3155d82",
   "metadata": {},
   "outputs": [
    {
     "name": "stdout",
     "output_type": "stream",
     "text": [
      "   Unnamed: 0  Ozone  Solar.R  Wind  Temp Month  Day Solar.Danger  \\\n",
      "0           1   41.0    190.0   7.4    67   may    1          Yes   \n",
      "1           2   36.0    118.0   8.0    72   may    2          Yes   \n",
      "2           3   12.0    149.0  12.6    74   may    3          Yes   \n",
      "3           4   18.0    313.0  11.5    62   may    4          Yes   \n",
      "4           5    NaN      NaN  14.3    56   may    5           No   \n",
      "\n",
      "  Solar.R.Interval  \n",
      "0          150-200  \n",
      "1          100-150  \n",
      "2          100-150  \n",
      "3          300-350  \n",
      "4              NaN  \n",
      "     Unnamed: 0  Ozone  Solar.R  Wind  Temp      Month  Day Solar.Danger  \\\n",
      "148         149   30.0    193.0   6.9    70  september   26          Yes   \n",
      "149         150    NaN    145.0  13.2    77  september   27          Yes   \n",
      "150         151   14.0    191.0  14.3    75  september   28          Yes   \n",
      "151         152   18.0    131.0   8.0    76  september   29          Yes   \n",
      "152         153   20.0    223.0  11.5    68  september   30          Yes   \n",
      "\n",
      "    Solar.R.Interval  \n",
      "148          150-200  \n",
      "149          100-150  \n",
      "150          150-200  \n",
      "151          100-150  \n",
      "152          200-250  \n"
     ]
    }
   ],
   "source": [
    "# Replace Month number with month name using for loop\n",
    "air_loop = air.copy()\n",
    "for index, row in air_loop.iterrows():\n",
    "    air_loop.at[index, 'Month'] = month_mapping.get(row['Month'])\n",
    "print(air.head())\n",
    "print(air.tail())"
   ]
  },
  {
   "cell_type": "code",
   "execution_count": null,
   "id": "fc14e14e-76a5-4fc8-9557-66a7fac7d4ef",
   "metadata": {},
   "outputs": [],
   "source": [
    "# Remove duplicate rows\n",
    "\n",
    "air_no_duplicates = air.drop_duplicates()\n",
    "\n",
    "print(\"Number of duplicated rows:\", air.duplicated().sum())\n",
    "print(\"number of rows after removing duplicates:\", len(air_no_duplicates))"
   ]
  },
  {
   "cell_type": "code",
   "execution_count": null,
   "id": "5ba19a6c-a0f0-4970-afb5-bbd37f7910ce",
   "metadata": {},
   "outputs": [],
   "source": [
    "# change data type\n",
    "\n",
    "print(air.dtypes)\n",
    "print(air.head())\n",
    "air['Wind'] = air['Wind'].astype(int)\n",
    "\n",
    "print(\"After data type conversion: \")\n",
    "print(air.head())\n",
    "print(air.dtypes)"
   ]
  },
  {
   "cell_type": "code",
   "execution_count": null,
   "id": "887341b7-8811-4dca-b592-3ca2dbe0d0de",
   "metadata": {},
   "outputs": [],
   "source": [
    "# Normalize the 'ozone' and 'solar.r' columns\n",
    "\n",
    "from sklearn.preprocessing import MinMaxScaler\n",
    "\n",
    "print(air[['Ozone', 'Solar.R']].head())\n",
    "scaler = MinMaxScaler()\n",
    "air[['Ozone', 'Solar.R']] = scaler.fit_transform(air[['Ozone', 'Solar.R']])\n",
    "\n",
    "print(\"\\nAfter Scaling: \")\n",
    "print(air[['Ozone', 'Solar.R']].head())"
   ]
  },
  {
   "cell_type": "code",
   "execution_count": null,
   "id": "d977f079-6d5c-4163-bfb2-f2f8471e7ccb",
   "metadata": {},
   "outputs": [],
   "source": [
    "# Fix Data Inconsistencies\n",
    "\n",
    "print(air['Month'].unique())\n",
    "\n",
    "air['Month'] = air['Month'].str.capitalize()\n",
    "\n",
    "print(air['Month'].unique())"
   ]
  },
  {
   "cell_type": "code",
   "execution_count": null,
   "id": "5ee0469b-77bf-481c-8dd3-50e4da82a4cf",
   "metadata": {},
   "outputs": [],
   "source": [
    "air_cleaned = air.drop(['Month'], axis = 1)\n",
    "\n",
    "print(air_cleaned.columns)"
   ]
  },
  {
   "cell_type": "code",
   "execution_count": null,
   "id": "bcd5f245-db8b-4362-bb99-ee1498a15f9a",
   "metadata": {},
   "outputs": [],
   "source": [
    "# inspecting \"Ozone\"\n",
    "print(\"For Ozone: \")\n",
    "ozone_mean = air['Ozone'].mean()\n",
    "print(\"Mean:\", ozone_mean)\n",
    "\n",
    "ozone_median = air['Ozone'].median()\n",
    "print(\"Median:\", ozone_median)\n",
    "\n",
    "ozone_mode = air['Ozone'].mode()\n",
    "print(\"Mode:\", ozone_mode)\n",
    "\n",
    "ozone_min = air['Ozone'].min()\n",
    "ozone_max = air['Ozone'].max()\n",
    "print(\"Ozone minimum and maximum values are:\", ozone_min, \"and\", ozone_max)\n",
    "\n",
    "ozone_std = air['Ozone'].std()\n",
    "print(\"Ozone standard deviation is:\", ozone_std)\n",
    "\n",
    "\n",
    "print()\n",
    "print(\"For Solar.R: \")\n",
    "solar_mean = air['Solar.R'].mean()\n",
    "print(\"Mean:\", solar_mean)\n",
    "\n",
    "solar_median = air['Solar.R'].median()\n",
    "print(\"Median:\", solar_median)\n",
    "\n",
    "solar_mode = air['Solar.R'].mode()\n",
    "print(\"Mode:\", solar_mode)\n",
    "\n",
    "solar_min = air['Solar.R'].min()\n",
    "solar_max = air['Solar.R'].max()\n",
    "print(\"Solar.R minimum and maximum values are:\", solar_min, \"and\", solar_max)\n",
    "\n",
    "solar_std = air['Solar.R'].std()\n",
    "print(\"Solar radiation standard deviation is:\", solar_std)\n"
   ]
  },
  {
   "cell_type": "code",
   "execution_count": null,
   "id": "d0840bc3-daf5-4ebe-b8ec-6db5c8d0ef0e",
   "metadata": {},
   "outputs": [],
   "source": [
    "# Data cleaning\n",
    "air_cleaned = air.dropna(subset=['Ozone'])\n",
    "print(\"After cleaning: \")\n",
    "na_values = air_cleaned.isnull().sum()\n",
    "print(\"NA values in each column are:\", na_values)\n",
    "\n",
    "summary_air_cleaned = air_cleaned['Ozone'].info()\n",
    "print(\"Summary:\\n\", summary_air_cleaned)"
   ]
  },
  {
   "cell_type": "code",
   "execution_count": null,
   "id": "a07b4ed2-007c-4ac6-b9ba-ded21838d3fb",
   "metadata": {},
   "outputs": [],
   "source": [
    "# Data cleaning\n",
    "air_cleaned_notna = air\n",
    "\n",
    "for index in range(len(air)):\n",
    "    if (pd.isna(air_cleaned_notna.loc[index, 'Ozone'])):\n",
    "        air_cleaned_notna.drop(index, inplace = True)\n",
    "\n",
    "\n",
    "na_values = air_cleaned_notna.isnull().sum()\n",
    "print(\"After cleaning: \")\n",
    "print(\"NA values in each column are:\", na_values)\n"
   ]
  },
  {
   "cell_type": "code",
   "execution_count": null,
   "id": "8b7b08fc-5d5a-4c0e-aaed-f252ad58b4b3",
   "metadata": {},
   "outputs": [],
   "source": [
    "# Data cleaning\n",
    "air_cleaned = air.dropna(subset=['Solar.R'])\n",
    "print(\"After cleaning: \")\n",
    "na_values = air_cleaned.isnull().sum()\n",
    "print(\"NA values in each column are:\", na_values)\n",
    "print()\n",
    "\n",
    "summary_air_cleaned = air_cleaned['Solar.R'].info()\n",
    "print(\"Summary:\\n\", summary_air_cleaned)\n",
    "print(\"First five: \\n\", air_cleaned.head())"
   ]
  },
  {
   "cell_type": "code",
   "execution_count": null,
   "id": "b6e2c4bb-b0c1-42d2-b2f1-5ee3f650ee97",
   "metadata": {},
   "outputs": [],
   "source": []
  },
  {
   "cell_type": "code",
   "execution_count": null,
   "id": "f421ef79-19fb-4225-b95d-a76e7cf8dc15",
   "metadata": {},
   "outputs": [],
   "source": []
  },
  {
   "cell_type": "code",
   "execution_count": null,
   "id": "0199a02b-e8ae-4d55-ba22-0c08976c3de9",
   "metadata": {},
   "outputs": [],
   "source": []
  }
 ],
 "metadata": {
  "kernelspec": {
   "display_name": "Python 3 (ipykernel)",
   "language": "python",
   "name": "python3"
  },
  "language_info": {
   "codemirror_mode": {
    "name": "ipython",
    "version": 3
   },
   "file_extension": ".py",
   "mimetype": "text/x-python",
   "name": "python",
   "nbconvert_exporter": "python",
   "pygments_lexer": "ipython3",
   "version": "3.12.2"
  }
 },
 "nbformat": 4,
 "nbformat_minor": 5
}
