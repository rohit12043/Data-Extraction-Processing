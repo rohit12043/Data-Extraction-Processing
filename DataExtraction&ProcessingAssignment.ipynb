{
 "cells": [
  {
   "cell_type": "code",
   "execution_count": 8,
   "id": "74f32132-ed5e-4400-8ea2-a130c47e95d5",
   "metadata": {},
   "outputs": [],
   "source": [
    "# Rohit Sinha\n",
    "# 70022300523\n",
    "# Batch 2\n",
    "# Division A\n",
    "\n",
    "import pandas as pd\n",
    "\n",
    "# Program that reads the excel file and creates text file for each student from the excel file, with content relevant about their academics in the provided format.\n",
    "\n",
    "dftemp = pd.read_excel(\"Results.xlsx\", header = 3)\n",
    "\n",
    "# Mapping each subject to its corresponding result as only one header can be chosen from the provided two, and removing na values.\n",
    "subjects = {'Result': 'Statistics & Probability', 'Result.1': 'Microsoft Excel', 'Result.2': 'VBA', 'Result.3': 'SQL', 'Result.4': 'Power BI'}\n",
    "df = dftemp.dropna()\n",
    "\n",
    "results = {}\n",
    "\n",
    "# Traversing through the iterrows object that has a tuple of (index, row) pairs, gathering list of names, programs, registration number etc...\n",
    "for index, row in df.iterrows():\n",
    "  passed = []\n",
    "  failed = []\n",
    "  name = row[\"Student Name\"]\n",
    "  reg =  int(row[\"Registration Number\"])\n",
    "  prog = row[\"Program Name\"]\n",
    "  date = pd.to_datetime(row['Exam Date']).strftime('%d-%b-%y')\n",
    "  total = int(row[\"Grand Total\"])\n",
    "\n",
    "# Finding subjects in which the student failed or passed and appending them in respective lists.\n",
    "  for result, subject in subjects.items():\n",
    "    if(row[result] == \"Fail\"):\n",
    "      failed.append(subject)\n",
    "    else:\n",
    "      passed.append(subject)\n",
    "    results[name] = {\"Passed\": passed, \"Failed\": failed}\n",
    "\n",
    "  passed_str = \", \".join(passed)\n",
    "  failed_str = \", \".join(failed)\n",
    "\n",
    "# Creating file for each student and appending related text.\n",
    "  f =  open(f\"{name}.txt\", \"w+\")\n",
    "  f.write(f\"Mr. {name} bearing registration number {reg}, enrolled in the program {prog} has appeared in final exams on {date}. Student has successfully qualified the following courses: {passed_str} and have scored a grand total of {total} marks.\")\n",
    "  f.close()\n",
    "\n",
    "  if(failed):\n",
    "    f =  open(f\"{name}.txt\", \"w+\")\n",
    "    f.write(f\"Mr. {name} bearing registration number {reg}, enrolled in the program {prog} has appeared in final exams on {date}. Student has successfully qualified the following courses: {passed_str} and have scored a grand total of {total} marks.\\nBut he failed the {failed_str} course(s). He may have to re-appear in this/these exam(s).\")\n",
    "  f.close()"
   ]
  },
  {
   "cell_type": "code",
   "execution_count": null,
   "id": "9e7d4fc1-564d-4038-b6f0-8f057ed3e8f8",
   "metadata": {},
   "outputs": [],
   "source": []
  }
 ],
 "metadata": {
  "kernelspec": {
   "display_name": "Python 3 (ipykernel)",
   "language": "python",
   "name": "python3"
  },
  "language_info": {
   "codemirror_mode": {
    "name": "ipython",
    "version": 3
   },
   "file_extension": ".py",
   "mimetype": "text/x-python",
   "name": "python",
   "nbconvert_exporter": "python",
   "pygments_lexer": "ipython3",
   "version": "3.12.2"
  }
 },
 "nbformat": 4,
 "nbformat_minor": 5
}
