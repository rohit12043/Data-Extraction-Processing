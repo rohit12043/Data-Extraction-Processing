{
 "cells": [
  {
   "cell_type": "code",
   "execution_count": null,
   "id": "79125536-e5f7-4957-ad86-38d71bf5a692",
   "metadata": {},
   "outputs": [],
   "source": [
    "# D074, 70022300523, Rohit Sinha, Experiment 9"
   ]
  }
 ],
 "metadata": {
  "kernelspec": {
   "display_name": "Python 3 (ipykernel)",
   "language": "python",
   "name": "python3"
  },
  "language_info": {
   "codemirror_mode": {
    "name": "ipython",
    "version": 3
   },
   "file_extension": ".py",
   "mimetype": "text/x-python",
   "name": "python",
   "nbconvert_exporter": "python",
   "pygments_lexer": "ipython3",
   "version": "3.12.2"
  }
 },
 "nbformat": 4,
 "nbformat_minor": 5
}
